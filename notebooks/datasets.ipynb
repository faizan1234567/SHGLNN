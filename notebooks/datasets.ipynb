{
  "nbformat": 4,
  "nbformat_minor": 0,
  "metadata": {
    "colab": {
      "provenance": []
    },
    "kernelspec": {
      "name": "python3",
      "display_name": "Python 3"
    },
    "language_info": {
      "name": "python"
    }
  },
  "cells": [
    {
      "cell_type": "code",
      "execution_count": 1,
      "metadata": {
        "id": "eYTyoGyAXfWO"
      },
      "outputs": [],
      "source": [
        "## graph machine learning, using some of datasets\n",
        "#  MUTAG\n",
        "# PROTEINS\n",
        "# COLLAB\n",
        "# IMDB\n"
      ]
    },
    {
      "cell_type": "markdown",
      "source": [
        "# MUTAG Datasets\n",
        "read and get to know more about the datasets using it's features and number of examples it has"
      ],
      "metadata": {
        "id": "-emtZ6ljYWNd"
      }
    },
    {
      "cell_type": "code",
      "source": [
        "#Install pytorch geometric\n",
        "!pip install torch_geometric\n",
        "!pip install rdflib"
      ],
      "metadata": {
        "id": "XcXudlnSX1kU"
      },
      "execution_count": null,
      "outputs": []
    },
    {
      "cell_type": "code",
      "source": [
        "import torch_geometric\n",
        "from torch_geometric.datasets import Entities"
      ],
      "metadata": {
        "id": "sjsGhSUYYCUW"
      },
      "execution_count": 3,
      "outputs": []
    },
    {
      "cell_type": "code",
      "source": [
        "mutag_dataset = Entities(root = '/content', name = \"MUTAG\")"
      ],
      "metadata": {
        "colab": {
          "base_uri": "https://localhost:8080/"
        },
        "id": "xcSy4XoWYSag",
        "outputId": "d68fbbb0-16ab-4002-c02b-76ef6407ccaf"
      },
      "execution_count": 6,
      "outputs": [
        {
          "output_type": "stream",
          "name": "stderr",
          "text": [
            "Processing...\n",
            "Done!\n"
          ]
        }
      ]
    },
    {
      "cell_type": "code",
      "source": [
        "import torch\n",
        "from torch_geometric.data import Data\n",
        "\n",
        "edge_index = torch.tensor([[0, 1],\n",
        "                           [1, 0],\n",
        "                           [1, 2],\n",
        "                           [2, 1]], dtype=torch.long)\n",
        "x = torch.tensor([[-1], [0], [1]], dtype=torch.float)\n",
        "\n",
        "data = Data(x=x, edge_index=edge_index.t().contiguous())\n",
        "\n",
        "\n"
      ],
      "metadata": {
        "id": "c7SdC-gsYsBz"
      },
      "execution_count": 12,
      "outputs": []
    },
    {
      "cell_type": "code",
      "source": [
        "def show_datast_info(data):\n",
        "  \"\"\"\n",
        "  show the dataset information such as it's attributes\n",
        "  Args:\n",
        "  data: torch_geometric.dataset\n",
        "\n",
        "  \"\"\"\n",
        "  print(f'key information: {data.keys}')\n",
        "  print(f'number of nodes in the data: {data.num_nodes}')\n",
        "  print(f'number of edges in the data: {data.num_edges}') # using bidirectional edges...\n",
        "  print(f'number of nodes features in the data: {data.num_node_features}')\n",
        "  print(f'number of edge features in the data: {data.num_edge_features}')\n",
        "  print(f'is the dataset isolated: {data.has_isolated_nodes()}')\n",
        "  print(f'does the dataset has self loops: {data.has_self_loops()}')\n",
        "  print(f'is the data directed: {data.is_directed()}')\n",
        "  # print(f'Number of classes in the dataset: {data.num_classes}')"
      ],
      "metadata": {
        "id": "keneIe9rZ90K"
      },
      "execution_count": 32,
      "outputs": []
    },
    {
      "cell_type": "code",
      "source": [
        "data=mutag_dataset[0]"
      ],
      "metadata": {
        "id": "znurGaQKaqOn"
      },
      "execution_count": 33,
      "outputs": []
    },
    {
      "cell_type": "code",
      "source": [
        "show_datast_info(data)"
      ],
      "metadata": {
        "colab": {
          "base_uri": "https://localhost:8080/"
        },
        "id": "hXxpoVHvgoiu",
        "outputId": "a67a2827-ed8c-428c-caa4-350d5e983aa9"
      },
      "execution_count": 34,
      "outputs": [
        {
          "output_type": "stream",
          "name": "stdout",
          "text": [
            "key information: ['train_idx', 'test_idx', 'edge_type', 'num_nodes', 'edge_index', 'train_y', 'test_y']\n",
            "number of nodes in the data: 23644\n",
            "number of edges in the data: 148454\n",
            "number of nodes features in the data: 0\n",
            "number of edge features in the data: 0\n",
            "is the dataset isolated: False\n",
            "does the dataset has self loops: False\n",
            "is the data directed: False\n"
          ]
        }
      ]
    },
    {
      "cell_type": "code",
      "source": [
        "data['test_y']"
      ],
      "metadata": {
        "colab": {
          "base_uri": "https://localhost:8080/"
        },
        "id": "THzqBGbKguv2",
        "outputId": "71a7abdf-b16d-4b66-e6fa-f9ace2562e7f"
      },
      "execution_count": 41,
      "outputs": [
        {
          "output_type": "execute_result",
          "data": {
            "text/plain": [
              "tensor([0, 0, 0, 1, 1, 0, 0, 0, 0, 0, 0, 0, 1, 1, 0, 1, 0, 0, 1, 0, 0, 1, 0, 0,\n",
              "        0, 1, 0, 0, 0, 0, 0, 0, 0, 0, 0, 0, 0, 0, 0, 0, 1, 1, 0, 0, 1, 0, 0, 1,\n",
              "        1, 1, 0, 1, 1, 0, 0, 0, 1, 0, 1, 0, 1, 0, 1, 1, 0, 1, 0, 1])"
            ]
          },
          "metadata": {},
          "execution_count": 41
        }
      ]
    },
    {
      "cell_type": "code",
      "source": [],
      "metadata": {
        "id": "ds-9c6ACiAdN"
      },
      "execution_count": null,
      "outputs": []
    }
  ]
}