{
  "cells": [
    {
      "cell_type": "code",
      "execution_count": null,
      "metadata": {
        "id": "XcXudlnSX1kU"
      },
      "outputs": [],
      "source": [
        "#Install pytorch geometric\n",
        "!pip install torch_geometric\n",
        "!pip install rdflib"
      ]
    },
    {
      "cell_type": "code",
      "execution_count": 1,
      "metadata": {
        "id": "c7SdC-gsYsBz"
      },
      "outputs": [],
      "source": [
        "# getting started with garph ...\n",
        "# to undertand how a graph is created in pytorch geometric\n",
        "\n",
        "import torch\n",
        "from torch_geometric.data import Data\n",
        "\n",
        "edge_index = torch.tensor([[0, 1],\n",
        "                           [1, 0],\n",
        "                           [1, 2],\n",
        "                           [2, 1]], dtype=torch.long)\n",
        "x = torch.tensor([[-1], [0], [1]], dtype=torch.float)\n",
        "\n",
        "data = Data(x=x, edge_index=edge_index.t().contiguous())\n",
        "\n",
        "\n"
      ]
    },
    {
      "cell_type": "code",
      "execution_count": 2,
      "metadata": {
        "id": "keneIe9rZ90K"
      },
      "outputs": [],
      "source": [
        "# show graph attributes and information\n",
        "# key information about the graph\n",
        "def show_datast_info(data):\n",
        "  \"\"\"\n",
        "  show the dataset information such as it's attributes\n",
        "  Args:\n",
        "  data: torch_geometric.dataset\n",
        "\n",
        "  \"\"\"\n",
        "  print(f'key information: {data.keys}')\n",
        "  print(f'number of nodes in the data: {data.num_nodes}')\n",
        "  print(f'number of edges in the data: {data.num_edges}') # using bidirectional edges...\n",
        "  print(f'number of nodes features in the data: {data.num_node_features}')\n",
        "  print(f'number of edge features in the data: {data.num_edge_features}')\n",
        "  print(f'is the dataset isolated: {data.has_isolated_nodes()}')\n",
        "  print(f'does the dataset has self loops: {data.has_self_loops()}')\n",
        "  print(f'is the data directed: {data.is_directed()}')\n",
        "  # print(f'Number of classes in the dataset: {data.num_classes}')"
      ]
    },
    {
      "cell_type": "markdown",
      "metadata": {
        "id": "zHKIw5zFwTJe"
      },
      "source": [
        "## Using Datasets from TU Dartomond\n",
        "it contains a variety of datasets inlcluding the following datasets.\n",
        " - COLLAB\n",
        " - IMDB\n",
        " - MUTAG\n",
        " - PROTEINS"
      ]
    },
    {
      "cell_type": "markdown",
      "metadata": {
        "id": "9MdZaod0wTHC"
      },
      "source": [
        "these are useful for graph classification tasks\n"
      ]
    },
    {
      "cell_type": "markdown",
      "metadata": {
        "id": "hCJ5N9FlzHP8"
      },
      "source": [
        "### MUTAG DATASET"
      ]
    },
    {
      "cell_type": "code",
      "execution_count": 3,
      "metadata": {
        "id": "386NlUPCovkH"
      },
      "outputs": [],
      "source": [
        "import torch_geometric\n",
        "from torch_geometric.datasets import TUDataset"
      ]
    },
    {
      "cell_type": "code",
      "execution_count": 4,
      "metadata": {
        "id": "XZbEYkllw3VH"
      },
      "outputs": [
        {
          "name": "stderr",
          "output_type": "stream",
          "text": [
            "Downloading https://www.chrsmrrs.com/graphkerneldatasets/MUTAG.zip\n",
            "Extracting \\content\\MUTAG\\MUTAG.zip\n",
            "Processing...\n",
            "Done!\n"
          ]
        }
      ],
      "source": [
        "mutag = TUDataset(root = \"/content\", name = \"MUTAG\")"
      ]
    },
    {
      "cell_type": "code",
      "execution_count": 5,
      "metadata": {
        "colab": {
          "base_uri": "https://localhost:8080/"
        },
        "id": "1Iiyc27kxOx1",
        "outputId": "cbcae514-0d89-4f7d-dfd2-dbf695cffb06"
      },
      "outputs": [
        {
          "name": "stdout",
          "output_type": "stream",
          "text": [
            "number of graphs in the MUTAG dataset: 188\n"
          ]
        }
      ],
      "source": [
        "print(f'number of graphs in the MUTAG dataset: {len(mutag)}')\n"
      ]
    },
    {
      "cell_type": "code",
      "execution_count": 8,
      "metadata": {
        "id": "43anQ4jNxUSJ"
      },
      "outputs": [],
      "source": [
        "# get a graph from set of graphs in the dataset\n",
        "GRAPH_INDEX = 0\n",
        "graph= mutag[GRAPH_INDEX]"
      ]
    },
    {
      "cell_type": "code",
      "execution_count": 15,
      "metadata": {},
      "outputs": [
        {
          "name": "stdout",
          "output_type": "stream",
          "text": [
            "Data(edge_index=[2, 38], x=[17, 7], edge_attr=[38, 4], y=[1])\n"
          ]
        }
      ],
      "source": [
        "print(graph)"
      ]
    },
    {
      "cell_type": "code",
      "execution_count": 9,
      "metadata": {
        "colab": {
          "base_uri": "https://localhost:8080/"
        },
        "id": "pQnUZ4lfxY_4",
        "outputId": "46c653f1-43e7-4c5f-fb62-7f5d679cdea0"
      },
      "outputs": [
        {
          "name": "stdout",
          "output_type": "stream",
          "text": [
            "key information: ['edge_index', 'edge_attr', 'x', 'y']\n",
            "number of nodes in the data: 17\n",
            "number of edges in the data: 38\n",
            "number of nodes features in the data: 7\n",
            "number of edge features in the data: 4\n",
            "is the dataset isolated: False\n",
            "does the dataset has self loops: False\n",
            "is the data directed: False\n"
          ]
        }
      ],
      "source": [
        "show_datast_info(graph)"
      ]
    },
    {
      "cell_type": "code",
      "execution_count": 10,
      "metadata": {
        "colab": {
          "base_uri": "https://localhost:8080/"
        },
        "id": "t6jYECUHxf3K",
        "outputId": "e92ee375-a105-493d-d525-c015eeb8cc52"
      },
      "outputs": [
        {
          "name": "stdout",
          "output_type": "stream",
          "text": [
            "the label of the graph: 1\n"
          ]
        }
      ],
      "source": [
        "print(f'the label of the graph: {graph[\"y\"].squeeze()}')"
      ]
    },
    {
      "cell_type": "markdown",
      "metadata": {
        "id": "JK6mWtPBzLpA"
      },
      "source": [
        "### PROTEINS Dataset"
      ]
    },
    {
      "cell_type": "code",
      "execution_count": 35,
      "metadata": {
        "id": "F7ZAlc6HyABO"
      },
      "outputs": [],
      "source": [
        "proteins = TUDataset(root = '/content', name= \"PROTEINS\")"
      ]
    },
    {
      "cell_type": "code",
      "execution_count": 36,
      "metadata": {
        "colab": {
          "base_uri": "https://localhost:8080/"
        },
        "id": "82GFFionzWRP",
        "outputId": "d992ceb5-f5f3-4f70-fb0a-4a773c6d56c0"
      },
      "outputs": [
        {
          "name": "stdout",
          "output_type": "stream",
          "text": [
            "number of graphs in the MUTAG dataset: 1113\n"
          ]
        }
      ],
      "source": [
        "print(f'number of graphs in the MUTAG dataset: {len(proteins)}')"
      ]
    },
    {
      "cell_type": "code",
      "execution_count": 37,
      "metadata": {
        "id": "vXfhph1T0cM4"
      },
      "outputs": [],
      "source": [
        "GRAPH_INDEX = 1\n",
        "graph= proteins[GRAPH_INDEX]"
      ]
    },
    {
      "cell_type": "code",
      "execution_count": 38,
      "metadata": {
        "colab": {
          "base_uri": "https://localhost:8080/"
        },
        "id": "J86KVryH0kUP",
        "outputId": "1a02d563-73f2-4cfa-ee05-6b56d7c6624a"
      },
      "outputs": [
        {
          "name": "stdout",
          "output_type": "stream",
          "text": [
            "key information: ['edge_index', 'y', 'x']\n",
            "number of nodes in the data: 27\n",
            "number of edges in the data: 92\n",
            "number of nodes features in the data: 3\n",
            "number of edge features in the data: 0\n",
            "is the dataset isolated: False\n",
            "does the dataset has self loops: False\n",
            "is the data directed: False\n"
          ]
        }
      ],
      "source": [
        "show_datast_info(graph)"
      ]
    },
    {
      "cell_type": "code",
      "execution_count": 39,
      "metadata": {
        "colab": {
          "base_uri": "https://localhost:8080/"
        },
        "id": "DbOb70yZ0nHr",
        "outputId": "83d42536-09df-4802-9dd4-90ee004b3cf0"
      },
      "outputs": [
        {
          "name": "stdout",
          "output_type": "stream",
          "text": [
            "the label of the graph: 0\n"
          ]
        }
      ],
      "source": [
        "print(f'the label of the graph: {graph[\"y\"].squeeze()}')"
      ]
    },
    {
      "cell_type": "markdown",
      "metadata": {
        "id": "0q69kfT21A01"
      },
      "source": [
        "### IMDB BINARY Dataset"
      ]
    },
    {
      "cell_type": "code",
      "execution_count": 40,
      "metadata": {
        "id": "6VEW_icb03X6"
      },
      "outputs": [],
      "source": [
        "imdb_bin = TUDataset(root = '/content', name= \"IMDB-BINARY\")"
      ]
    },
    {
      "cell_type": "code",
      "execution_count": 41,
      "metadata": {
        "colab": {
          "base_uri": "https://localhost:8080/"
        },
        "id": "HLuQCqE41PLN",
        "outputId": "d3293f73-f2d1-4536-d02a-396686fb5659"
      },
      "outputs": [
        {
          "name": "stdout",
          "output_type": "stream",
          "text": [
            "number of graphs in the MUTAG dataset: 1000\n"
          ]
        }
      ],
      "source": [
        "print(f'number of graphs in the MUTAG dataset: {len(imdb_bin)}')"
      ]
    },
    {
      "cell_type": "code",
      "execution_count": 42,
      "metadata": {
        "id": "xxOu0udn1U9i"
      },
      "outputs": [],
      "source": [
        "GRAPH_INDEX = 1\n",
        "graph= imdb_bin[GRAPH_INDEX]"
      ]
    },
    {
      "cell_type": "code",
      "execution_count": 43,
      "metadata": {
        "colab": {
          "base_uri": "https://localhost:8080/"
        },
        "id": "H7kCGSRz1a2a",
        "outputId": "6348454d-ac85-4c2f-e216-f68eb32eeef5"
      },
      "outputs": [
        {
          "name": "stdout",
          "output_type": "stream",
          "text": [
            "key information: ['num_nodes', 'edge_index', 'y']\n",
            "number of nodes in the data: 32\n",
            "number of edges in the data: 256\n",
            "number of nodes features in the data: 0\n",
            "number of edge features in the data: 0\n",
            "is the dataset isolated: False\n",
            "does the dataset has self loops: False\n",
            "is the data directed: False\n"
          ]
        }
      ],
      "source": [
        "show_datast_info(graph)"
      ]
    },
    {
      "cell_type": "code",
      "execution_count": 44,
      "metadata": {
        "colab": {
          "base_uri": "https://localhost:8080/"
        },
        "id": "Ew23EBZX1egU",
        "outputId": "5476cf29-b04a-467c-a508-3e531318b684"
      },
      "outputs": [
        {
          "name": "stdout",
          "output_type": "stream",
          "text": [
            "the label of the graph: 0\n"
          ]
        }
      ],
      "source": [
        "print(f'the label of the graph: {graph[\"y\"].squeeze()}')"
      ]
    },
    {
      "cell_type": "markdown",
      "metadata": {
        "id": "ODcFYlEN28iR"
      },
      "source": [
        "## COLLAB Dataset\n"
      ]
    },
    {
      "cell_type": "code",
      "execution_count": null,
      "metadata": {
        "colab": {
          "base_uri": "https://localhost:8080/"
        },
        "id": "7z31HoxU1qJb",
        "outputId": "8cf825f1-d577-4440-919d-1a3dadd990d7"
      },
      "outputs": [
        {
          "name": "stderr",
          "output_type": "stream",
          "text": [
            "Processing...\n"
          ]
        }
      ],
      "source": [
        "collab = TUDataset(root = '/content', name= \"COLLAB\")\n",
        "\n",
        "# ram crashes ...\n"
      ]
    },
    {
      "cell_type": "code",
      "execution_count": null,
      "metadata": {
        "id": "U7GP7SZ93NK6"
      },
      "outputs": [],
      "source": []
    }
  ],
  "metadata": {
    "colab": {
      "provenance": []
    },
    "kernelspec": {
      "display_name": "Python 3",
      "name": "python3"
    },
    "language_info": {
      "codemirror_mode": {
        "name": "ipython",
        "version": 3
      },
      "file_extension": ".py",
      "mimetype": "text/x-python",
      "name": "python",
      "nbconvert_exporter": "python",
      "pygments_lexer": "ipython3",
      "version": "3.8.0"
    }
  },
  "nbformat": 4,
  "nbformat_minor": 0
}
