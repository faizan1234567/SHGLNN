{
  "nbformat": 4,
  "nbformat_minor": 0,
  "metadata": {
    "colab": {
      "provenance": []
    },
    "kernelspec": {
      "name": "python3",
      "display_name": "Python 3"
    },
    "language_info": {
      "name": "python"
    }
  },
  "cells": [
    {
      "cell_type": "code",
      "source": [
        "#Install pytorch geometric\n",
        "!pip install torch_geometric\n",
        "!pip install rdflib"
      ],
      "metadata": {
        "id": "XcXudlnSX1kU"
      },
      "execution_count": null,
      "outputs": []
    },
    {
      "cell_type": "code",
      "source": [
        "# getting started with garph ...\n",
        "# to undertand how a graph is created in pytorch geometric\n",
        "\n",
        "import torch\n",
        "from torch_geometric.data import Data\n",
        "\n",
        "edge_index = torch.tensor([[0, 1],\n",
        "                           [1, 0],\n",
        "                           [1, 2],\n",
        "                           [2, 1]], dtype=torch.long)\n",
        "x = torch.tensor([[-1], [0], [1]], dtype=torch.float)\n",
        "\n",
        "data = Data(x=x, edge_index=edge_index.t().contiguous())\n",
        "\n",
        "\n"
      ],
      "metadata": {
        "id": "c7SdC-gsYsBz"
      },
      "execution_count": 25,
      "outputs": []
    },
    {
      "cell_type": "code",
      "source": [
        "# show graph attributes and information\n",
        "# key information about the graph\n",
        "def show_datast_info(data):\n",
        "  \"\"\"\n",
        "  show the dataset information such as it's attributes\n",
        "  Args:\n",
        "  data: torch_geometric.dataset\n",
        "\n",
        "  \"\"\"\n",
        "  print(f'key information: {data.keys}')\n",
        "  print(f'number of nodes in the data: {data.num_nodes}')\n",
        "  print(f'number of edges in the data: {data.num_edges}') # using bidirectional edges...\n",
        "  print(f'number of nodes features in the data: {data.num_node_features}')\n",
        "  print(f'number of edge features in the data: {data.num_edge_features}')\n",
        "  print(f'is the dataset isolated: {data.has_isolated_nodes()}')\n",
        "  print(f'does the dataset has self loops: {data.has_self_loops()}')\n",
        "  print(f'is the data directed: {data.is_directed()}')\n",
        "  # print(f'Number of classes in the dataset: {data.num_classes}')"
      ],
      "metadata": {
        "id": "keneIe9rZ90K"
      },
      "execution_count": 26,
      "outputs": []
    },
    {
      "cell_type": "markdown",
      "source": [
        "## Using Datasets from TU Dartomond\n",
        "it contains a variety of datasets inlcluding the following datasets.\n",
        " - COLLAB\n",
        " - IMDB\n",
        " - MUTAG\n",
        " - PROTEINS"
      ],
      "metadata": {
        "id": "zHKIw5zFwTJe"
      }
    },
    {
      "cell_type": "markdown",
      "source": [
        "these are useful for graph classification tasks\n"
      ],
      "metadata": {
        "id": "9MdZaod0wTHC"
      }
    },
    {
      "cell_type": "markdown",
      "source": [
        "### MUTAG DATASET"
      ],
      "metadata": {
        "id": "hCJ5N9FlzHP8"
      }
    },
    {
      "cell_type": "code",
      "source": [
        "import torch_geometric\n",
        "from torch_geometric.datasets import TUDataset"
      ],
      "metadata": {
        "id": "386NlUPCovkH"
      },
      "execution_count": 27,
      "outputs": []
    },
    {
      "cell_type": "code",
      "source": [
        "mutag = TUDataset(root = \"/content\", name = \"MUTAG\")"
      ],
      "metadata": {
        "id": "XZbEYkllw3VH"
      },
      "execution_count": 28,
      "outputs": []
    },
    {
      "cell_type": "code",
      "source": [
        "print(f'number of graphs in the MUTAG dataset: {len(mutag)}')"
      ],
      "metadata": {
        "colab": {
          "base_uri": "https://localhost:8080/"
        },
        "id": "1Iiyc27kxOx1",
        "outputId": "cbcae514-0d89-4f7d-dfd2-dbf695cffb06"
      },
      "execution_count": 29,
      "outputs": [
        {
          "output_type": "stream",
          "name": "stdout",
          "text": [
            "number of graphs in the MUTAG dataset: 188\n"
          ]
        }
      ]
    },
    {
      "cell_type": "code",
      "source": [
        "# get a graph from set of graphs in the dataset\n",
        "GRAPH_INDEX = 1\n",
        "graph= mutag[GRAPH_INDEX]"
      ],
      "metadata": {
        "id": "43anQ4jNxUSJ"
      },
      "execution_count": 30,
      "outputs": []
    },
    {
      "cell_type": "code",
      "source": [
        "show_datast_info(graph)"
      ],
      "metadata": {
        "colab": {
          "base_uri": "https://localhost:8080/"
        },
        "id": "pQnUZ4lfxY_4",
        "outputId": "46c653f1-43e7-4c5f-fb62-7f5d679cdea0"
      },
      "execution_count": 31,
      "outputs": [
        {
          "output_type": "stream",
          "name": "stdout",
          "text": [
            "key information: ['edge_attr', 'edge_index', 'y', 'x']\n",
            "number of nodes in the data: 13\n",
            "number of edges in the data: 28\n",
            "number of nodes features in the data: 7\n",
            "number of edge features in the data: 4\n",
            "is the dataset isolated: False\n",
            "does the dataset has self loops: False\n",
            "is the data directed: False\n"
          ]
        }
      ]
    },
    {
      "cell_type": "code",
      "source": [
        "print(f'the label of the graph: {graph[\"y\"].squeeze()}')"
      ],
      "metadata": {
        "colab": {
          "base_uri": "https://localhost:8080/"
        },
        "id": "t6jYECUHxf3K",
        "outputId": "e92ee375-a105-493d-d525-c015eeb8cc52"
      },
      "execution_count": 32,
      "outputs": [
        {
          "output_type": "stream",
          "name": "stdout",
          "text": [
            "the label of the graph: 0\n"
          ]
        }
      ]
    },
    {
      "cell_type": "markdown",
      "source": [
        "### PROTEINS Dataset"
      ],
      "metadata": {
        "id": "JK6mWtPBzLpA"
      }
    },
    {
      "cell_type": "code",
      "source": [
        "proteins = TUDataset(root = '/content', name= \"PROTEINS\")"
      ],
      "metadata": {
        "id": "F7ZAlc6HyABO"
      },
      "execution_count": 35,
      "outputs": []
    },
    {
      "cell_type": "code",
      "source": [
        "print(f'number of graphs in the MUTAG dataset: {len(proteins)}')"
      ],
      "metadata": {
        "colab": {
          "base_uri": "https://localhost:8080/"
        },
        "id": "82GFFionzWRP",
        "outputId": "d992ceb5-f5f3-4f70-fb0a-4a773c6d56c0"
      },
      "execution_count": 36,
      "outputs": [
        {
          "output_type": "stream",
          "name": "stdout",
          "text": [
            "number of graphs in the MUTAG dataset: 1113\n"
          ]
        }
      ]
    },
    {
      "cell_type": "code",
      "source": [
        "GRAPH_INDEX = 1\n",
        "graph= proteins[GRAPH_INDEX]"
      ],
      "metadata": {
        "id": "vXfhph1T0cM4"
      },
      "execution_count": 37,
      "outputs": []
    },
    {
      "cell_type": "code",
      "source": [
        "show_datast_info(graph)"
      ],
      "metadata": {
        "colab": {
          "base_uri": "https://localhost:8080/"
        },
        "id": "J86KVryH0kUP",
        "outputId": "1a02d563-73f2-4cfa-ee05-6b56d7c6624a"
      },
      "execution_count": 38,
      "outputs": [
        {
          "output_type": "stream",
          "name": "stdout",
          "text": [
            "key information: ['edge_index', 'y', 'x']\n",
            "number of nodes in the data: 27\n",
            "number of edges in the data: 92\n",
            "number of nodes features in the data: 3\n",
            "number of edge features in the data: 0\n",
            "is the dataset isolated: False\n",
            "does the dataset has self loops: False\n",
            "is the data directed: False\n"
          ]
        }
      ]
    },
    {
      "cell_type": "code",
      "source": [
        "print(f'the label of the graph: {graph[\"y\"].squeeze()}')"
      ],
      "metadata": {
        "colab": {
          "base_uri": "https://localhost:8080/"
        },
        "id": "DbOb70yZ0nHr",
        "outputId": "83d42536-09df-4802-9dd4-90ee004b3cf0"
      },
      "execution_count": 39,
      "outputs": [
        {
          "output_type": "stream",
          "name": "stdout",
          "text": [
            "the label of the graph: 0\n"
          ]
        }
      ]
    },
    {
      "cell_type": "markdown",
      "source": [
        "### IMDB BINARY Dataset"
      ],
      "metadata": {
        "id": "0q69kfT21A01"
      }
    },
    {
      "cell_type": "code",
      "source": [
        "imdb_bin = TUDataset(root = '/content', name= \"IMDB-BINARY\")"
      ],
      "metadata": {
        "id": "6VEW_icb03X6"
      },
      "execution_count": 40,
      "outputs": []
    },
    {
      "cell_type": "code",
      "source": [
        "print(f'number of graphs in the MUTAG dataset: {len(imdb_bin)}')"
      ],
      "metadata": {
        "colab": {
          "base_uri": "https://localhost:8080/"
        },
        "id": "HLuQCqE41PLN",
        "outputId": "d3293f73-f2d1-4536-d02a-396686fb5659"
      },
      "execution_count": 41,
      "outputs": [
        {
          "output_type": "stream",
          "name": "stdout",
          "text": [
            "number of graphs in the MUTAG dataset: 1000\n"
          ]
        }
      ]
    },
    {
      "cell_type": "code",
      "source": [
        "GRAPH_INDEX = 1\n",
        "graph= imdb_bin[GRAPH_INDEX]"
      ],
      "metadata": {
        "id": "xxOu0udn1U9i"
      },
      "execution_count": 42,
      "outputs": []
    },
    {
      "cell_type": "code",
      "source": [
        "show_datast_info(graph)"
      ],
      "metadata": {
        "colab": {
          "base_uri": "https://localhost:8080/"
        },
        "id": "H7kCGSRz1a2a",
        "outputId": "6348454d-ac85-4c2f-e216-f68eb32eeef5"
      },
      "execution_count": 43,
      "outputs": [
        {
          "output_type": "stream",
          "name": "stdout",
          "text": [
            "key information: ['num_nodes', 'edge_index', 'y']\n",
            "number of nodes in the data: 32\n",
            "number of edges in the data: 256\n",
            "number of nodes features in the data: 0\n",
            "number of edge features in the data: 0\n",
            "is the dataset isolated: False\n",
            "does the dataset has self loops: False\n",
            "is the data directed: False\n"
          ]
        }
      ]
    },
    {
      "cell_type": "code",
      "source": [
        "print(f'the label of the graph: {graph[\"y\"].squeeze()}')"
      ],
      "metadata": {
        "colab": {
          "base_uri": "https://localhost:8080/"
        },
        "id": "Ew23EBZX1egU",
        "outputId": "5476cf29-b04a-467c-a508-3e531318b684"
      },
      "execution_count": 44,
      "outputs": [
        {
          "output_type": "stream",
          "name": "stdout",
          "text": [
            "the label of the graph: 0\n"
          ]
        }
      ]
    },
    {
      "cell_type": "markdown",
      "source": [
        "## COLLAB Dataset\n"
      ],
      "metadata": {
        "id": "ODcFYlEN28iR"
      }
    },
    {
      "cell_type": "code",
      "source": [
        "collab = TUDataset(root = '/content', name= \"COLLAB\")\n",
        "\n",
        "# ram crashes ...\n"
      ],
      "metadata": {
        "colab": {
          "base_uri": "https://localhost:8080/"
        },
        "id": "7z31HoxU1qJb",
        "outputId": "8cf825f1-d577-4440-919d-1a3dadd990d7"
      },
      "execution_count": null,
      "outputs": [
        {
          "output_type": "stream",
          "name": "stderr",
          "text": [
            "Processing...\n"
          ]
        }
      ]
    },
    {
      "cell_type": "code",
      "source": [],
      "metadata": {
        "id": "U7GP7SZ93NK6"
      },
      "execution_count": null,
      "outputs": []
    }
  ]
}